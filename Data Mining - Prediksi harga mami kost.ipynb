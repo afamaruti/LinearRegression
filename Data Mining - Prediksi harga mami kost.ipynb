{
 "cells": [
  {
   "cell_type": "markdown",
   "id": "385ab4ff",
   "metadata": {},
   "source": [
    "# Import Libraries"
   ]
  },
  {
   "cell_type": "code",
   "execution_count": null,
   "id": "c2d1e5d9",
   "metadata": {},
   "outputs": [],
   "source": [
    "import pandas as pd\n",
    "import matplotlib.pyplot as plt\n",
    "import numpy as np\n",
    "import seaborn as sns\n",
    "from sklearn.linear_model import LinearRegression\n",
    "from sklearn.model_selection import train_test_split"
   ]
  },
  {
   "cell_type": "code",
   "execution_count": 2,
   "id": "6444d226",
   "metadata": {},
   "outputs": [],
   "source": [
    "df = pd.read_csv('newkoss.csv')"
   ]
  },
  {
   "cell_type": "code",
   "execution_count": 3,
   "id": "87808429",
   "metadata": {
    "scrolled": true
   },
   "outputs": [
    {
     "data": {
      "text/html": [
       "<div>\n",
       "<style scoped>\n",
       "    .dataframe tbody tr th:only-of-type {\n",
       "        vertical-align: middle;\n",
       "    }\n",
       "\n",
       "    .dataframe tbody tr th {\n",
       "        vertical-align: top;\n",
       "    }\n",
       "\n",
       "    .dataframe thead th {\n",
       "        text-align: right;\n",
       "    }\n",
       "</style>\n",
       "<table border=\"1\" class=\"dataframe\">\n",
       "  <thead>\n",
       "    <tr style=\"text-align: right;\">\n",
       "      <th></th>\n",
       "      <th>No</th>\n",
       "      <th>Nama Kos</th>\n",
       "      <th>Kamar mandi</th>\n",
       "      <th>Kasur</th>\n",
       "      <th>Lemari baju</th>\n",
       "      <th>AC</th>\n",
       "      <th>Parkiran</th>\n",
       "      <th>Wifi</th>\n",
       "      <th>Harga</th>\n",
       "      <th>Jarak</th>\n",
       "      <th>patokan</th>\n",
       "      <th>alamat</th>\n",
       "      <th>Luas Kamar</th>\n",
       "    </tr>\n",
       "  </thead>\n",
       "  <tbody>\n",
       "    <tr>\n",
       "      <th>0</th>\n",
       "      <td>1.0</td>\n",
       "      <td>Kost Rumah Regal Tipe A Pondok Aren Tangerang ...</td>\n",
       "      <td>1.0</td>\n",
       "      <td>1.0</td>\n",
       "      <td>1.0</td>\n",
       "      <td>1.0</td>\n",
       "      <td>motor</td>\n",
       "      <td>1.0</td>\n",
       "      <td>1250000.0</td>\n",
       "      <td>dekat</td>\n",
       "      <td>STAN</td>\n",
       "      <td>Pondok aren</td>\n",
       "      <td>5.0</td>\n",
       "    </tr>\n",
       "    <tr>\n",
       "      <th>1</th>\n",
       "      <td>2.0</td>\n",
       "      <td>Kost Rumah Regal Tipe A Pondok Aren Tangerang ...</td>\n",
       "      <td>1.0</td>\n",
       "      <td>1.0</td>\n",
       "      <td>1.0</td>\n",
       "      <td>1.0</td>\n",
       "      <td>motor</td>\n",
       "      <td>1.0</td>\n",
       "      <td>1450000.0</td>\n",
       "      <td>dekat</td>\n",
       "      <td>STAN</td>\n",
       "      <td>Kecamatan pondok aren</td>\n",
       "      <td>7.0</td>\n",
       "    </tr>\n",
       "    <tr>\n",
       "      <th>2</th>\n",
       "      <td>3.0</td>\n",
       "      <td>Kost Rumah Regal Tipe A Pondok Aren Tangerang ...</td>\n",
       "      <td>1.0</td>\n",
       "      <td>1.0</td>\n",
       "      <td>1.0</td>\n",
       "      <td>1.0</td>\n",
       "      <td>motor</td>\n",
       "      <td>1.0</td>\n",
       "      <td>1000000.0</td>\n",
       "      <td>dekat</td>\n",
       "      <td>STAN</td>\n",
       "      <td>Kecamatan pondok aren</td>\n",
       "      <td>5.0</td>\n",
       "    </tr>\n",
       "    <tr>\n",
       "      <th>3</th>\n",
       "      <td>4.0</td>\n",
       "      <td>Kost Apik Alhijra Tipe E Perkici Bintaro Jaya ...</td>\n",
       "      <td>0.0</td>\n",
       "      <td>2.0</td>\n",
       "      <td>2.0</td>\n",
       "      <td>2.0</td>\n",
       "      <td>motor</td>\n",
       "      <td>1.0</td>\n",
       "      <td>970000.0</td>\n",
       "      <td>sedang</td>\n",
       "      <td>STAN</td>\n",
       "      <td>Kecamatan Ciputat Timur</td>\n",
       "      <td>5.0</td>\n",
       "    </tr>\n",
       "    <tr>\n",
       "      <th>4</th>\n",
       "      <td>5.0</td>\n",
       "      <td>Kost Apik Alhijra Tipe E Perkici Bintaro Jaya ...</td>\n",
       "      <td>1.0</td>\n",
       "      <td>1.0</td>\n",
       "      <td>1.0</td>\n",
       "      <td>1.0</td>\n",
       "      <td>motor</td>\n",
       "      <td>1.0</td>\n",
       "      <td>1825000.0</td>\n",
       "      <td>sedang</td>\n",
       "      <td>STAN</td>\n",
       "      <td>Kecamatan Ciputat Timur</td>\n",
       "      <td>9.0</td>\n",
       "    </tr>\n",
       "  </tbody>\n",
       "</table>\n",
       "</div>"
      ],
      "text/plain": [
       "    No                                           Nama Kos  Kamar mandi  Kasur  \\\n",
       "0  1.0  Kost Rumah Regal Tipe A Pondok Aren Tangerang ...          1.0    1.0   \n",
       "1  2.0  Kost Rumah Regal Tipe A Pondok Aren Tangerang ...          1.0    1.0   \n",
       "2  3.0  Kost Rumah Regal Tipe A Pondok Aren Tangerang ...          1.0    1.0   \n",
       "3  4.0  Kost Apik Alhijra Tipe E Perkici Bintaro Jaya ...          0.0    2.0   \n",
       "4  5.0  Kost Apik Alhijra Tipe E Perkici Bintaro Jaya ...          1.0    1.0   \n",
       "\n",
       "   Lemari baju   AC Parkiran  Wifi       Harga   Jarak patokan  \\\n",
       "0          1.0  1.0    motor    1.0  1250000.0   dekat    STAN   \n",
       "1          1.0  1.0    motor    1.0  1450000.0   dekat    STAN   \n",
       "2          1.0  1.0    motor    1.0  1000000.0   dekat    STAN   \n",
       "3          2.0  2.0    motor    1.0   970000.0  sedang    STAN   \n",
       "4          1.0  1.0    motor    1.0  1825000.0  sedang    STAN   \n",
       "\n",
       "                    alamat  Luas Kamar  \n",
       "0              Pondok aren         5.0  \n",
       "1    Kecamatan pondok aren         7.0  \n",
       "2    Kecamatan pondok aren         5.0  \n",
       "3  Kecamatan Ciputat Timur         5.0  \n",
       "4  Kecamatan Ciputat Timur         9.0  "
      ]
     },
     "execution_count": 3,
     "metadata": {},
     "output_type": "execute_result"
    }
   ],
   "source": [
    "df.head()"
   ]
  },
  {
   "cell_type": "markdown",
   "id": "a06e87c3",
   "metadata": {},
   "source": [
    "### Kolom yang akan digunakan dalam melakukan prediksi ini adalah:\n",
    "1. Kamar mandi\n",
    "2. Kasur\n",
    "3. Lemari baju\n",
    "4. AC\n",
    "5. Luas kamar\n",
    "6. Harga"
   ]
  },
  {
   "cell_type": "code",
   "execution_count": 5,
   "id": "75b87b2f",
   "metadata": {},
   "outputs": [],
   "source": [
    "df = pd.read_csv('newkoss.csv', usecols=['Kamar mandi', 'Kasur', 'Lemari baju', 'AC', 'Harga','Luas Kamar'])"
   ]
  },
  {
   "cell_type": "code",
   "execution_count": 6,
   "id": "8b50d937",
   "metadata": {},
   "outputs": [
    {
     "data": {
      "text/plain": [
       "(105, 6)"
      ]
     },
     "execution_count": 6,
     "metadata": {},
     "output_type": "execute_result"
    }
   ],
   "source": [
    "df.shape"
   ]
  },
  {
   "cell_type": "code",
   "execution_count": 7,
   "id": "10a887b6",
   "metadata": {},
   "outputs": [
    {
     "name": "stdout",
     "output_type": "stream",
     "text": [
      "<class 'pandas.core.frame.DataFrame'>\n",
      "RangeIndex: 105 entries, 0 to 104\n",
      "Data columns (total 6 columns):\n",
      " #   Column       Non-Null Count  Dtype  \n",
      "---  ------       --------------  -----  \n",
      " 0   Kamar mandi  100 non-null    float64\n",
      " 1   Kasur        100 non-null    float64\n",
      " 2   Lemari baju  100 non-null    float64\n",
      " 3   AC           100 non-null    float64\n",
      " 4   Harga        100 non-null    float64\n",
      " 5   Luas Kamar   100 non-null    float64\n",
      "dtypes: float64(6)\n",
      "memory usage: 5.0 KB\n"
     ]
    }
   ],
   "source": [
    "df.info()"
   ]
  },
  {
   "cell_type": "code",
   "execution_count": 8,
   "id": "0a4414fc",
   "metadata": {},
   "outputs": [],
   "source": [
    "df = df.fillna(0)"
   ]
  },
  {
   "cell_type": "markdown",
   "id": "42045b6a",
   "metadata": {},
   "source": [
    "### Mengubah data float menjadi int "
   ]
  },
  {
   "cell_type": "code",
   "execution_count": 9,
   "id": "3e96457d",
   "metadata": {},
   "outputs": [],
   "source": [
    "df['Kasur'] = df['Kasur'].astype('int')\n",
    "df['Lemari baju'] = df['Lemari baju'].astype('int')\n",
    "df['AC'] = df['AC'].astype('int')\n",
    "df['Kamar mandi'] = df['Kamar mandi'].astype('int')\n",
    "df['Harga'] = df['Harga'].astype('int')\n",
    "df['Luas Kamar'] = df['Luas Kamar'].astype('int')"
   ]
  },
  {
   "cell_type": "code",
   "execution_count": 10,
   "id": "b144d20b",
   "metadata": {},
   "outputs": [
    {
     "data": {
      "text/plain": [
       "(105, 6)"
      ]
     },
     "execution_count": 10,
     "metadata": {},
     "output_type": "execute_result"
    }
   ],
   "source": [
    "df.shape"
   ]
  },
  {
   "cell_type": "code",
   "execution_count": 11,
   "id": "0d36d139",
   "metadata": {},
   "outputs": [
    {
     "data": {
      "text/html": [
       "<div>\n",
       "<style scoped>\n",
       "    .dataframe tbody tr th:only-of-type {\n",
       "        vertical-align: middle;\n",
       "    }\n",
       "\n",
       "    .dataframe tbody tr th {\n",
       "        vertical-align: top;\n",
       "    }\n",
       "\n",
       "    .dataframe thead th {\n",
       "        text-align: right;\n",
       "    }\n",
       "</style>\n",
       "<table border=\"1\" class=\"dataframe\">\n",
       "  <thead>\n",
       "    <tr style=\"text-align: right;\">\n",
       "      <th></th>\n",
       "      <th>Kamar mandi</th>\n",
       "      <th>Kasur</th>\n",
       "      <th>Lemari baju</th>\n",
       "      <th>AC</th>\n",
       "      <th>Harga</th>\n",
       "      <th>Luas Kamar</th>\n",
       "    </tr>\n",
       "  </thead>\n",
       "  <tbody>\n",
       "    <tr>\n",
       "      <th>count</th>\n",
       "      <td>105.000000</td>\n",
       "      <td>105.000000</td>\n",
       "      <td>105.000000</td>\n",
       "      <td>105.000000</td>\n",
       "      <td>1.050000e+02</td>\n",
       "      <td>105.000000</td>\n",
       "    </tr>\n",
       "    <tr>\n",
       "      <th>mean</th>\n",
       "      <td>0.638095</td>\n",
       "      <td>1.038095</td>\n",
       "      <td>1.000000</td>\n",
       "      <td>1.171429</td>\n",
       "      <td>1.699924e+06</td>\n",
       "      <td>7.104762</td>\n",
       "    </tr>\n",
       "    <tr>\n",
       "      <th>std</th>\n",
       "      <td>0.482856</td>\n",
       "      <td>0.364897</td>\n",
       "      <td>0.310087</td>\n",
       "      <td>0.489449</td>\n",
       "      <td>1.842649e+06</td>\n",
       "      <td>2.303525</td>\n",
       "    </tr>\n",
       "    <tr>\n",
       "      <th>min</th>\n",
       "      <td>0.000000</td>\n",
       "      <td>0.000000</td>\n",
       "      <td>0.000000</td>\n",
       "      <td>0.000000</td>\n",
       "      <td>0.000000e+00</td>\n",
       "      <td>0.000000</td>\n",
       "    </tr>\n",
       "    <tr>\n",
       "      <th>25%</th>\n",
       "      <td>0.000000</td>\n",
       "      <td>1.000000</td>\n",
       "      <td>1.000000</td>\n",
       "      <td>1.000000</td>\n",
       "      <td>9.700000e+05</td>\n",
       "      <td>6.000000</td>\n",
       "    </tr>\n",
       "    <tr>\n",
       "      <th>50%</th>\n",
       "      <td>1.000000</td>\n",
       "      <td>1.000000</td>\n",
       "      <td>1.000000</td>\n",
       "      <td>1.000000</td>\n",
       "      <td>1.500000e+06</td>\n",
       "      <td>7.000000</td>\n",
       "    </tr>\n",
       "    <tr>\n",
       "      <th>75%</th>\n",
       "      <td>1.000000</td>\n",
       "      <td>1.000000</td>\n",
       "      <td>1.000000</td>\n",
       "      <td>1.000000</td>\n",
       "      <td>1.800000e+06</td>\n",
       "      <td>9.000000</td>\n",
       "    </tr>\n",
       "    <tr>\n",
       "      <th>max</th>\n",
       "      <td>1.000000</td>\n",
       "      <td>2.000000</td>\n",
       "      <td>2.000000</td>\n",
       "      <td>2.000000</td>\n",
       "      <td>1.800000e+07</td>\n",
       "      <td>10.000000</td>\n",
       "    </tr>\n",
       "  </tbody>\n",
       "</table>\n",
       "</div>"
      ],
      "text/plain": [
       "       Kamar mandi       Kasur  Lemari baju          AC         Harga  \\\n",
       "count   105.000000  105.000000   105.000000  105.000000  1.050000e+02   \n",
       "mean      0.638095    1.038095     1.000000    1.171429  1.699924e+06   \n",
       "std       0.482856    0.364897     0.310087    0.489449  1.842649e+06   \n",
       "min       0.000000    0.000000     0.000000    0.000000  0.000000e+00   \n",
       "25%       0.000000    1.000000     1.000000    1.000000  9.700000e+05   \n",
       "50%       1.000000    1.000000     1.000000    1.000000  1.500000e+06   \n",
       "75%       1.000000    1.000000     1.000000    1.000000  1.800000e+06   \n",
       "max       1.000000    2.000000     2.000000    2.000000  1.800000e+07   \n",
       "\n",
       "       Luas Kamar  \n",
       "count  105.000000  \n",
       "mean     7.104762  \n",
       "std      2.303525  \n",
       "min      0.000000  \n",
       "25%      6.000000  \n",
       "50%      7.000000  \n",
       "75%      9.000000  \n",
       "max     10.000000  "
      ]
     },
     "execution_count": 11,
     "metadata": {},
     "output_type": "execute_result"
    }
   ],
   "source": [
    "df.describe()"
   ]
  },
  {
   "cell_type": "code",
   "execution_count": null,
   "id": "ce42ee2a",
   "metadata": {},
   "outputs": [],
   "source": [
    "# Mencari dan menangani missing values\n",
    "df.isnull().sum()"
   ]
  },
  {
   "cell_type": "markdown",
   "id": "6712f21e",
   "metadata": {},
   "source": [
    "#### Ternyata data kita tidak ada missing values"
   ]
  },
  {
   "cell_type": "code",
   "execution_count": 13,
   "id": "66e323b5",
   "metadata": {},
   "outputs": [
    {
     "name": "stderr",
     "output_type": "stream",
     "text": [
      "C:\\Users\\icoek\\anaconda3\\lib\\site-packages\\seaborn\\_decorators.py:36: FutureWarning: Pass the following variable as a keyword arg: x. From version 0.12, the only valid positional argument will be `data`, and passing other arguments without an explicit keyword will result in an error or misinterpretation.\n",
      "  warnings.warn(\n"
     ]
    },
    {
     "data": {
      "image/png": "[encoded data removed]",
      "text/plain": [
       "<Figure size 1440x432 with 2 Axes>"
      ]
     },
     "metadata": {
      "needs_background": "light"
     },
     "output_type": "display_data"
    }
   ],
   "source": [
    "#Univariate analysis harga\n",
    "#Melihat distribusi dari harga\n",
    "f = plt.figure(figsize=(20,6))\n",
    "\n",
    "f.add_subplot(1,2,1)\n",
    "sns.countplot(df['Harga'])\n",
    "\n",
    "f.add_subplot(1,2,2)\n",
    "plt.boxplot(df['Harga'])\n",
    "plt.show()"
   ]
  },
  {
   "cell_type": "code",
   "execution_count": 14,
   "id": "fadedb3c",
   "metadata": {},
   "outputs": [
    {
     "name": "stderr",
     "output_type": "stream",
     "text": [
      "C:\\Users\\icoek\\anaconda3\\lib\\site-packages\\seaborn\\_decorators.py:36: FutureWarning: Pass the following variable as a keyword arg: x. From version 0.12, the only valid positional argument will be `data`, and passing other arguments without an explicit keyword will result in an error or misinterpretation.\n",
      "  warnings.warn(\n"
     ]
    },
    {
     "data": {
      "image/png": "[encoded data removed]",
      "text/plain": [
       "<Figure size 864x288 with 2 Axes>"
      ]
     },
     "metadata": {
      "needs_background": "light"
     },
     "output_type": "display_data"
    }
   ],
   "source": [
    "#Univariate analysis kamar mandi\n",
    "#Melihat distribusi dari kamar mandi\n",
    "f = plt.figure(figsize=(12,4))\n",
    "\n",
    "f.add_subplot(1,2,1)\n",
    "sns.countplot(df['Kamar mandi'])\n",
    "\n",
    "f.add_subplot(1,2,2)\n",
    "plt.boxplot(df['Kamar mandi'])\n",
    "plt.show()"
   ]
  },
  {
   "cell_type": "code",
   "execution_count": 15,
   "id": "9a11a285",
   "metadata": {},
   "outputs": [
    {
     "name": "stderr",
     "output_type": "stream",
     "text": [
      "C:\\Users\\icoek\\anaconda3\\lib\\site-packages\\seaborn\\_decorators.py:36: FutureWarning: Pass the following variable as a keyword arg: x. From version 0.12, the only valid positional argument will be `data`, and passing other arguments without an explicit keyword will result in an error or misinterpretation.\n",
      "  warnings.warn(\n"
     ]
    },
    {
     "data": {
      "image/png": "[encoded data removed]",
      "text/plain": [
       "<Figure size 864x288 with 2 Axes>"
      ]
     },
     "metadata": {
      "needs_background": "light"
     },
     "output_type": "display_data"
    }
   ],
   "source": [
    "#Univariate analysis AC\n",
    "#Melihat distribusi dari AC\n",
    "f = plt.figure(figsize=(12,4))\n",
    "\n",
    "f.add_subplot(1,2,1)\n",
    "sns.countplot(df['AC'])\n",
    "\n",
    "f.add_subplot(1,2,2)\n",
    "plt.boxplot(df['AC'])\n",
    "plt.show()"
   ]
  },
  {
   "cell_type": "code",
   "execution_count": 16,
   "id": "50df48e1",
   "metadata": {},
   "outputs": [
    {
     "data": {
      "image/png": "[encoded data removed]",
      "text/plain": [
       "<Figure size 864x288 with 2 Axes>"
      ]
     },
     "metadata": {
      "needs_background": "light"
     },
     "output_type": "display_data"
    }
   ],
   "source": [
    "#Univariate analysis harga\n",
    "#Melihat distribusi dari harga\n",
    "f = plt.figure(figsize=(12,4))\n",
    "\n",
    "f.add_subplot(1,2,1)\n",
    "df['Harga'].plot(kind='kde')\n",
    "\n",
    "f.add_subplot(1,2,2)\n",
    "plt.boxplot(df['Harga'])\n",
    "plt.show()"
   ]
  },
  {
   "cell_type": "code",
   "execution_count": 17,
   "id": "08fbe0ae",
   "metadata": {},
   "outputs": [
    {
     "name": "stderr",
     "output_type": "stream",
     "text": [
      "C:\\Users\\icoek\\anaconda3\\lib\\site-packages\\seaborn\\_decorators.py:36: FutureWarning: Pass the following variable as a keyword arg: x. From version 0.12, the only valid positional argument will be `data`, and passing other arguments without an explicit keyword will result in an error or misinterpretation.\n",
      "  warnings.warn(\n"
     ]
    },
    {
     "data": {
      "image/png": "[encoded data removed]",
      "text/plain": [
       "<Figure size 864x288 with 2 Axes>"
      ]
     },
     "metadata": {
      "needs_background": "light"
     },
     "output_type": "display_data"
    }
   ],
   "source": [
    "#Univariate analysis lemari\n",
    "#Melihat distribusi dari lemari\n",
    "f = plt.figure(figsize=(12,4))\n",
    "\n",
    "f.add_subplot(1,2,1)\n",
    "sns.countplot(df['Lemari baju'])\n",
    "\n",
    "f.add_subplot(1,2,2)\n",
    "plt.boxplot(df['Lemari baju'])\n",
    "plt.show()"
   ]
  },
  {
   "cell_type": "code",
   "execution_count": 18,
   "id": "e0f7cbaf",
   "metadata": {},
   "outputs": [
    {
     "name": "stderr",
     "output_type": "stream",
     "text": [
      "C:\\Users\\icoek\\anaconda3\\lib\\site-packages\\seaborn\\_decorators.py:36: FutureWarning: Pass the following variable as a keyword arg: x. From version 0.12, the only valid positional argument will be `data`, and passing other arguments without an explicit keyword will result in an error or misinterpretation.\n",
      "  warnings.warn(\n"
     ]
    },
    {
     "data": {
      "image/png": "[encoded data removed]",
      "text/plain": [
       "<Figure size 864x288 with 2 Axes>"
      ]
     },
     "metadata": {
      "needs_background": "light"
     },
     "output_type": "display_data"
    }
   ],
   "source": [
    "#Univariate analysis kasur\n",
    "#Melihat distribusi dari kasur\n",
    "f = plt.figure(figsize=(12,4))\n",
    "\n",
    "f.add_subplot(1,2,1)\n",
    "sns.countplot(df['Kasur'])\n",
    "\n",
    "f.add_subplot(1,2,2)\n",
    "plt.boxplot(df['Kasur'])\n",
    "plt.show()"
   ]
  },
  {
   "cell_type": "code",
   "execution_count": 19,
   "id": "97f91deb",
   "metadata": {},
   "outputs": [
    {
     "data": {
      "image/png": "[encoded data removed]",
      "text/plain": [
       "<Figure size 864x288 with 2 Axes>"
      ]
     },
     "metadata": {
      "needs_background": "light"
     },
     "output_type": "display_data"
    }
   ],
   "source": [
    "#Univariate analysis harga\n",
    "#Melihat distribusi dari harga\n",
    "f = plt.figure(figsize=(12,4))\n",
    "\n",
    "f.add_subplot(1,2,1)\n",
    "df['Luas Kamar'].plot(kind='kde')\n",
    "\n",
    "f.add_subplot(1,2,2)\n",
    "plt.boxplot(df['Luas Kamar'])\n",
    "plt.show()"
   ]
  },
  {
   "cell_type": "code",
   "execution_count": 21,
   "id": "73894b80",
   "metadata": {},
   "outputs": [
    {
     "name": "stderr",
     "output_type": "stream",
     "text": [
      "C:\\Users\\icoek\\anaconda3\\lib\\site-packages\\seaborn\\axisgrid.py:1969: UserWarning: The `size` parameter has been renamed to `height`; please update your code.\n",
      "  warnings.warn(msg, UserWarning)\n"
     ]
    },
    {
     "data": {
      "text/plain": [
       "<Figure size 720x576 with 0 Axes>"
      ]
     },
     "metadata": {},
     "output_type": "display_data"
    },
    {
     "data": {
      "image/png": "[encoded data removed]",
      "text/plain": [
       "<Figure size 1350x360 with 5 Axes>"
      ]
     },
     "metadata": {
      "needs_background": "light"
     },
     "output_type": "display_data"
    }
   ],
   "source": [
    "#Bivariate analysis antara independent variable dan dependent variable\n",
    "#Melihat hubungan antara independent dan dependent\n",
    "#Menggunakan pairplot\n",
    "plt.figure(figsize=(10,8))\n",
    "sns.pairplot(data=df, x_vars=['Kamar mandi', 'Kasur', 'Lemari baju', 'AC', 'Luas Kamar'], y_vars=['Harga'], size=5, aspect=0.75)\n",
    "plt.show()"
   ]
  },
  {
   "cell_type": "code",
   "execution_count": 22,
   "id": "d4b31580",
   "metadata": {},
   "outputs": [
    {
     "data": {
      "text/html": [
       "<style  type=\"text/css\" >\n",
       "#T_57c8a_row0_col0,#T_57c8a_row1_col1,#T_57c8a_row2_col2,#T_57c8a_row3_col3,#T_57c8a_row4_col4,#T_57c8a_row5_col5{\n",
       "            background-color:  #023858;\n",
       "            color:  #f1f1f1;\n",
       "        }#T_57c8a_row0_col1{\n",
       "            background-color:  #f8f1f8;\n",
       "            color:  #000000;\n",
       "        }#T_57c8a_row0_col2{\n",
       "            background-color:  #f5eff6;\n",
       "            color:  #000000;\n",
       "        }#T_57c8a_row0_col3,#T_57c8a_row3_col0,#T_57c8a_row3_col4,#T_57c8a_row3_col5,#T_57c8a_row4_col1,#T_57c8a_row4_col2{\n",
       "            background-color:  #fff7fb;\n",
       "            color:  #000000;\n",
       "        }#T_57c8a_row0_col4{\n",
       "            background-color:  #a7bddb;\n",
       "            color:  #000000;\n",
       "        }#T_57c8a_row0_col5{\n",
       "            background-color:  #79abd0;\n",
       "            color:  #000000;\n",
       "        }#T_57c8a_row1_col0{\n",
       "            background-color:  #d7d6e9;\n",
       "            color:  #000000;\n",
       "        }#T_57c8a_row1_col2{\n",
       "            background-color:  #0570b0;\n",
       "            color:  #f1f1f1;\n",
       "        }#T_57c8a_row1_col3{\n",
       "            background-color:  #1278b4;\n",
       "            color:  #f1f1f1;\n",
       "        }#T_57c8a_row1_col4{\n",
       "            background-color:  #eae6f1;\n",
       "            color:  #000000;\n",
       "        }#T_57c8a_row1_col5,#T_57c8a_row2_col0{\n",
       "            background-color:  #cccfe5;\n",
       "            color:  #000000;\n",
       "        }#T_57c8a_row2_col1{\n",
       "            background-color:  #056fae;\n",
       "            color:  #f1f1f1;\n",
       "        }#T_57c8a_row2_col3{\n",
       "            background-color:  #1c7fb8;\n",
       "            color:  #000000;\n",
       "        }#T_57c8a_row2_col4{\n",
       "            background-color:  #e3e0ee;\n",
       "            color:  #000000;\n",
       "        }#T_57c8a_row2_col5{\n",
       "            background-color:  #b1c2de;\n",
       "            color:  #000000;\n",
       "        }#T_57c8a_row3_col1{\n",
       "            background-color:  #2c89bd;\n",
       "            color:  #000000;\n",
       "        }#T_57c8a_row3_col2{\n",
       "            background-color:  #3f93c2;\n",
       "            color:  #000000;\n",
       "        }#T_57c8a_row4_col0{\n",
       "            background-color:  #97b7d7;\n",
       "            color:  #000000;\n",
       "        }#T_57c8a_row4_col3{\n",
       "            background-color:  #f7f0f7;\n",
       "            color:  #000000;\n",
       "        }#T_57c8a_row4_col5{\n",
       "            background-color:  #a1bbda;\n",
       "            color:  #000000;\n",
       "        }#T_57c8a_row5_col0{\n",
       "            background-color:  #549cc7;\n",
       "            color:  #000000;\n",
       "        }#T_57c8a_row5_col1{\n",
       "            background-color:  #d4d4e8;\n",
       "            color:  #000000;\n",
       "        }#T_57c8a_row5_col2{\n",
       "            background-color:  #c4cbe3;\n",
       "            color:  #000000;\n",
       "        }#T_57c8a_row5_col3{\n",
       "            background-color:  #e7e3f0;\n",
       "            color:  #000000;\n",
       "        }#T_57c8a_row5_col4{\n",
       "            background-color:  #89b1d4;\n",
       "            color:  #000000;\n",
       "        }</style><table id=\"T_57c8a_\" ><thead>    <tr>        <th class=\"blank level0\" ></th>        <th class=\"col_heading level0 col0\" >Kamar mandi</th>        <th class=\"col_heading level0 col1\" >Kasur</th>        <th class=\"col_heading level0 col2\" >Lemari baju</th>        <th class=\"col_heading level0 col3\" >AC</th>        <th class=\"col_heading level0 col4\" >Harga</th>        <th class=\"col_heading level0 col5\" >Luas Kamar</th>    </tr></thead><tbody>\n",
       "                <tr>\n",
       "                        <th id=\"T_57c8a_level0_row0\" class=\"row_heading level0 row0\" >Kamar mandi</th>\n",
       "                        <td id=\"T_57c8a_row0_col0\" class=\"data row0 col0\" >1.00</td>\n",
       "                        <td id=\"T_57c8a_row0_col1\" class=\"data row0 col1\" >0.08</td>\n",
       "                        <td id=\"T_57c8a_row0_col2\" class=\"data row0 col2\" >0.13</td>\n",
       "                        <td id=\"T_57c8a_row0_col3\" class=\"data row0 col3\" >-0.18</td>\n",
       "                        <td id=\"T_57c8a_row0_col4\" class=\"data row0 col4\" >0.30</td>\n",
       "                        <td id=\"T_57c8a_row0_col5\" class=\"data row0 col5\" >0.48</td>\n",
       "            </tr>\n",
       "            <tr>\n",
       "                        <th id=\"T_57c8a_level0_row1\" class=\"row_heading level0 row1\" >Kasur</th>\n",
       "                        <td id=\"T_57c8a_row1_col0\" class=\"data row1 col0\" >0.08</td>\n",
       "                        <td id=\"T_57c8a_row1_col1\" class=\"data row1 col1\" >1.00</td>\n",
       "                        <td id=\"T_57c8a_row1_col2\" class=\"data row1 col2\" >0.76</td>\n",
       "                        <td id=\"T_57c8a_row1_col3\" class=\"data row1 col3\" >0.66</td>\n",
       "                        <td id=\"T_57c8a_row1_col4\" class=\"data row1 col4\" >0.04</td>\n",
       "                        <td id=\"T_57c8a_row1_col5\" class=\"data row1 col5\" >0.26</td>\n",
       "            </tr>\n",
       "            <tr>\n",
       "                        <th id=\"T_57c8a_level0_row2\" class=\"row_heading level0 row2\" >Lemari baju</th>\n",
       "                        <td id=\"T_57c8a_row2_col0\" class=\"data row2 col0\" >0.13</td>\n",
       "                        <td id=\"T_57c8a_row2_col1\" class=\"data row2 col1\" >0.76</td>\n",
       "                        <td id=\"T_57c8a_row2_col2\" class=\"data row2 col2\" >1.00</td>\n",
       "                        <td id=\"T_57c8a_row2_col3\" class=\"data row2 col3\" >0.63</td>\n",
       "                        <td id=\"T_57c8a_row2_col4\" class=\"data row2 col4\" >0.07</td>\n",
       "                        <td id=\"T_57c8a_row2_col5\" class=\"data row2 col5\" >0.34</td>\n",
       "            </tr>\n",
       "            <tr>\n",
       "                        <th id=\"T_57c8a_level0_row3\" class=\"row_heading level0 row3\" >AC</th>\n",
       "                        <td id=\"T_57c8a_row3_col0\" class=\"data row3 col0\" >-0.18</td>\n",
       "                        <td id=\"T_57c8a_row3_col1\" class=\"data row3 col1\" >0.66</td>\n",
       "                        <td id=\"T_57c8a_row3_col2\" class=\"data row3 col2\" >0.63</td>\n",
       "                        <td id=\"T_57c8a_row3_col3\" class=\"data row3 col3\" >1.00</td>\n",
       "                        <td id=\"T_57c8a_row3_col4\" class=\"data row3 col4\" >-0.12</td>\n",
       "                        <td id=\"T_57c8a_row3_col5\" class=\"data row3 col5\" >-0.01</td>\n",
       "            </tr>\n",
       "            <tr>\n",
       "                        <th id=\"T_57c8a_level0_row4\" class=\"row_heading level0 row4\" >Harga</th>\n",
       "                        <td id=\"T_57c8a_row4_col0\" class=\"data row4 col0\" >0.30</td>\n",
       "                        <td id=\"T_57c8a_row4_col1\" class=\"data row4 col1\" >0.04</td>\n",
       "                        <td id=\"T_57c8a_row4_col2\" class=\"data row4 col2\" >0.07</td>\n",
       "                        <td id=\"T_57c8a_row4_col3\" class=\"data row4 col3\" >-0.12</td>\n",
       "                        <td id=\"T_57c8a_row4_col4\" class=\"data row4 col4\" >1.00</td>\n",
       "                        <td id=\"T_57c8a_row4_col5\" class=\"data row4 col5\" >0.38</td>\n",
       "            </tr>\n",
       "            <tr>\n",
       "                        <th id=\"T_57c8a_level0_row5\" class=\"row_heading level0 row5\" >Luas Kamar</th>\n",
       "                        <td id=\"T_57c8a_row5_col0\" class=\"data row5 col0\" >0.48</td>\n",
       "                        <td id=\"T_57c8a_row5_col1\" class=\"data row5 col1\" >0.26</td>\n",
       "                        <td id=\"T_57c8a_row5_col2\" class=\"data row5 col2\" >0.34</td>\n",
       "                        <td id=\"T_57c8a_row5_col3\" class=\"data row5 col3\" >-0.01</td>\n",
       "                        <td id=\"T_57c8a_row5_col4\" class=\"data row5 col4\" >0.38</td>\n",
       "                        <td id=\"T_57c8a_row5_col5\" class=\"data row5 col5\" >1.00</td>\n",
       "            </tr>\n",
       "    </tbody></table>"
      ],
      "text/plain": [
       "<pandas.io.formats.style.Styler at 0x1dbeceb9ac0>"
      ]
     },
     "execution_count": 22,
     "metadata": {},
     "output_type": "execute_result"
    }
   ],
   "source": [
    "#Mengetahui nilai korelasi dari independent variable dan dependent variable\n",
    "df.corr().style.background_gradient().set_precision(2)"
   ]
  },
  {
   "cell_type": "markdown",
   "id": "0855a168",
   "metadata": {},
   "source": [
    "# Modelling Data"
   ]
  },
  {
   "cell_type": "code",
   "execution_count": 23,
   "id": "3fbd3698",
   "metadata": {},
   "outputs": [],
   "source": [
    "#Membuat variabel x dan y\n",
    "x = df.drop(columns='Harga')\n",
    "y = df['Harga']"
   ]
  },
  {
   "cell_type": "code",
   "execution_count": 24,
   "id": "bbd35106",
   "metadata": {},
   "outputs": [],
   "source": [
    "#Kemudian, split data menjadi training and testing dengan porsi 70:30\n",
    "x_train, x_test, y_train, y_test = train_test_split(x, y, test_size=0.3, random_state=4)"
   ]
  },
  {
   "cell_type": "code",
   "execution_count": 25,
   "id": "88468548",
   "metadata": {},
   "outputs": [
    {
     "name": "stdout",
     "output_type": "stream",
     "text": [
      "(73, 5)\n",
      "(73,)\n",
      "(32, 5)\n",
      "(32,)\n"
     ]
    }
   ],
   "source": [
    "#Cek shape dari data training dan testing\n",
    "print(x_train.shape)\n",
    "print(y_train.shape)\n",
    "print(x_test.shape)\n",
    "print(y_test.shape)"
   ]
  },
  {
   "cell_type": "code",
   "execution_count": 26,
   "id": "7f6e6578",
   "metadata": {},
   "outputs": [],
   "source": [
    "#Membuat object linear regresi\n",
    "lin_reg = LinearRegression()"
   ]
  },
  {
   "cell_type": "code",
   "execution_count": 27,
   "id": "e5dffa94",
   "metadata": {},
   "outputs": [
    {
     "data": {
      "text/html": [
       "<div>\n",
       "<style scoped>\n",
       "    .dataframe tbody tr th:only-of-type {\n",
       "        vertical-align: middle;\n",
       "    }\n",
       "\n",
       "    .dataframe tbody tr th {\n",
       "        vertical-align: top;\n",
       "    }\n",
       "\n",
       "    .dataframe thead th {\n",
       "        text-align: right;\n",
       "    }\n",
       "</style>\n",
       "<table border=\"1\" class=\"dataframe\">\n",
       "  <thead>\n",
       "    <tr style=\"text-align: right;\">\n",
       "      <th></th>\n",
       "      <th>Kamar mandi</th>\n",
       "      <th>Kasur</th>\n",
       "      <th>Lemari baju</th>\n",
       "      <th>AC</th>\n",
       "      <th>Harga</th>\n",
       "      <th>Luas Kamar</th>\n",
       "    </tr>\n",
       "  </thead>\n",
       "  <tbody>\n",
       "    <tr>\n",
       "      <th>0</th>\n",
       "      <td>1</td>\n",
       "      <td>1</td>\n",
       "      <td>1</td>\n",
       "      <td>1</td>\n",
       "      <td>1250000</td>\n",
       "      <td>5</td>\n",
       "    </tr>\n",
       "    <tr>\n",
       "      <th>1</th>\n",
       "      <td>1</td>\n",
       "      <td>1</td>\n",
       "      <td>1</td>\n",
       "      <td>1</td>\n",
       "      <td>1450000</td>\n",
       "      <td>7</td>\n",
       "    </tr>\n",
       "    <tr>\n",
       "      <th>2</th>\n",
       "      <td>1</td>\n",
       "      <td>1</td>\n",
       "      <td>1</td>\n",
       "      <td>1</td>\n",
       "      <td>1000000</td>\n",
       "      <td>5</td>\n",
       "    </tr>\n",
       "    <tr>\n",
       "      <th>3</th>\n",
       "      <td>0</td>\n",
       "      <td>2</td>\n",
       "      <td>2</td>\n",
       "      <td>2</td>\n",
       "      <td>970000</td>\n",
       "      <td>5</td>\n",
       "    </tr>\n",
       "    <tr>\n",
       "      <th>4</th>\n",
       "      <td>1</td>\n",
       "      <td>1</td>\n",
       "      <td>1</td>\n",
       "      <td>1</td>\n",
       "      <td>1825000</td>\n",
       "      <td>9</td>\n",
       "    </tr>\n",
       "  </tbody>\n",
       "</table>\n",
       "</div>"
      ],
      "text/plain": [
       "   Kamar mandi  Kasur  Lemari baju  AC    Harga  Luas Kamar\n",
       "0            1      1            1   1  1250000           5\n",
       "1            1      1            1   1  1450000           7\n",
       "2            1      1            1   1  1000000           5\n",
       "3            0      2            2   2   970000           5\n",
       "4            1      1            1   1  1825000           9"
      ]
     },
     "execution_count": 27,
     "metadata": {},
     "output_type": "execute_result"
    }
   ],
   "source": [
    "df.head()"
   ]
  },
  {
   "cell_type": "code",
   "execution_count": 28,
   "id": "a606768a",
   "metadata": {},
   "outputs": [
    {
     "data": {
      "text/plain": [
       "LinearRegression()"
      ]
     },
     "execution_count": 28,
     "metadata": {},
     "output_type": "execute_result"
    }
   ],
   "source": [
    "#Train the model menggunakan training data yang sudah displit\n",
    "lin_reg.fit(x_train, y_train)"
   ]
  },
  {
   "cell_type": "code",
   "execution_count": 29,
   "id": "85214ff7",
   "metadata": {},
   "outputs": [
    {
     "name": "stdout",
     "output_type": "stream",
     "text": [
      "[ 192923.91915428   10192.63471716 -145590.41274479 -186139.35779355\n",
      "  305403.73505862]\n",
      "-375188.61092256824\n"
     ]
    }
   ],
   "source": [
    "#Cari tau nilai slope/koefisien (m) dan intercept (b)\n",
    "print(lin_reg.coef_)\n",
    "print(lin_reg.intercept_)"
   ]
  },
  {
   "cell_type": "code",
   "execution_count": 30,
   "id": "6d85b63b",
   "metadata": {},
   "outputs": [
    {
     "data": {
      "text/html": [
       "<div>\n",
       "<style scoped>\n",
       "    .dataframe tbody tr th:only-of-type {\n",
       "        vertical-align: middle;\n",
       "    }\n",
       "\n",
       "    .dataframe tbody tr th {\n",
       "        vertical-align: top;\n",
       "    }\n",
       "\n",
       "    .dataframe thead th {\n",
       "        text-align: right;\n",
       "    }\n",
       "</style>\n",
       "<table border=\"1\" class=\"dataframe\">\n",
       "  <thead>\n",
       "    <tr style=\"text-align: right;\">\n",
       "      <th></th>\n",
       "      <th>features</th>\n",
       "      <th>coef_value</th>\n",
       "    </tr>\n",
       "  </thead>\n",
       "  <tbody>\n",
       "    <tr>\n",
       "      <th>0</th>\n",
       "      <td>Kamar mandi</td>\n",
       "      <td>192923.919154</td>\n",
       "    </tr>\n",
       "    <tr>\n",
       "      <th>1</th>\n",
       "      <td>Kasur</td>\n",
       "      <td>10192.634717</td>\n",
       "    </tr>\n",
       "    <tr>\n",
       "      <th>2</th>\n",
       "      <td>Lemari baju</td>\n",
       "      <td>-145590.412745</td>\n",
       "    </tr>\n",
       "    <tr>\n",
       "      <th>3</th>\n",
       "      <td>AC</td>\n",
       "      <td>-186139.357794</td>\n",
       "    </tr>\n",
       "    <tr>\n",
       "      <th>4</th>\n",
       "      <td>Luas Kamar</td>\n",
       "      <td>305403.735059</td>\n",
       "    </tr>\n",
       "  </tbody>\n",
       "</table>\n",
       "</div>"
      ],
      "text/plain": [
       "      features     coef_value\n",
       "0  Kamar mandi  192923.919154\n",
       "1        Kasur   10192.634717\n",
       "2  Lemari baju -145590.412745\n",
       "3           AC -186139.357794\n",
       "4   Luas Kamar  305403.735059"
      ]
     },
     "execution_count": 30,
     "metadata": {},
     "output_type": "execute_result"
    }
   ],
   "source": [
    "#Mencoba membuat dataframe agar terlihat lebih rapih\n",
    "coef_dict = {\n",
    "    'features': x.columns,\n",
    "    'coef_value':lin_reg.coef_\n",
    "}\n",
    "coef = pd.DataFrame(coef_dict, columns=['features', 'coef_value'])\n",
    "coef"
   ]
  },
  {
   "cell_type": "code",
   "execution_count": 31,
   "id": "2c5afb87",
   "metadata": {},
   "outputs": [],
   "source": [
    "y_pred = lin_reg.predict(x_test)"
   ]
  },
  {
   "cell_type": "code",
   "execution_count": 32,
   "id": "29c000c8",
   "metadata": {},
   "outputs": [
    {
     "data": {
      "text/plain": [
       "0.04205375965196101"
      ]
     },
     "execution_count": 32,
     "metadata": {},
     "output_type": "execute_result"
    }
   ],
   "source": [
    "#Mencari tahu accuracy score dari modelling data dengan menggunakan testing data\n",
    "lin_reg.score(x_test, y_test)"
   ]
  },
  {
   "cell_type": "markdown",
   "id": "0e05a9fb",
   "metadata": {},
   "source": [
    "# Prediction"
   ]
  },
  {
   "cell_type": "markdown",
   "id": "0e8c6b8b",
   "metadata": {},
   "source": [
    "### Kita akan memprediksi harga kost dengan kriteria:\n",
    "1. Memiliki Kamar Mandi di Dalam\n",
    "2. Memiliki Kasur\n",
    "3. Memiliki Lemari Baju\n",
    "4. Memakai AC\n",
    "5. Luas Kamar 6 Meter"
   ]
  },
  {
   "cell_type": "code",
   "execution_count": 34,
   "id": "242f5cef",
   "metadata": {},
   "outputs": [
    {
     "data": {
      "text/plain": [
       "array([1328620.58276227])"
      ]
     },
     "execution_count": 34,
     "metadata": {},
     "output_type": "execute_result"
    }
   ],
   "source": [
    "lin_reg.predict([[1,1,1,1,6]])"
   ]
  },
  {
   "cell_type": "markdown",
   "id": "bf5e92ad",
   "metadata": {},
   "source": [
    "### Dan ternyata jika kita ingin mendapatkan semua kriteria yang kita inginkan, maka prediksi harga untuk kost di Jakarta adalah Rp1.328.620 "
   ]
  },
  {
   "cell_type": "code",
   "execution_count": 35,
   "id": "4612a1f4",
   "metadata": {},
   "outputs": [
    {
     "data": {
      "text/plain": [
       "array([3296440.77114164])"
      ]
     },
     "execution_count": 35,
     "metadata": {},
     "output_type": "execute_result"
    }
   ],
   "source": [
    "lin_reg.predict([[1,0,0,1,12]])"
   ]
  },
  {
   "cell_type": "code",
   "execution_count": 36,
   "id": "443b8148",
   "metadata": {},
   "outputs": [
    {
     "data": {
      "text/plain": [
       "array([3103516.85198736])"
      ]
     },
     "execution_count": 36,
     "metadata": {},
     "output_type": "execute_result"
    }
   ],
   "source": [
    "lin_reg.predict([[0,0,0,1,12]])"
   ]
  }
 ],
 "metadata": {
  "kernelspec": {
   "display_name": "Python 3",
   "language": "python",
   "name": "python3"
  },
  "language_info": {
   "codemirror_mode": {
    "name": "ipython",
    "version": 3
   },
   "file_extension": ".py",
   "mimetype": "text/x-python",
   "name": "python",
   "nbconvert_exporter": "python",
   "pygments_lexer": "ipython3",
   "version": "3.8.8"
  }
 },
 "nbformat": 4,
 "nbformat_minor": 5
}
